{
  "nbformat": 4,
  "nbformat_minor": 0,
  "metadata": {
    "colab": {
      "provenance": []
    },
    "kernelspec": {
      "name": "python3",
      "display_name": "Python 3"
    },
    "language_info": {
      "name": "python"
    }
  },
  "cells": [
    {
      "cell_type": "markdown",
      "source": [
        "## import library"
      ],
      "metadata": {
        "id": "IVm9Vofrypyy"
      }
    },
    {
      "cell_type": "code",
      "source": [
        "import tensorflow as tf\n",
        "import sklearn\n",
        "\n",
        "print(\"TensorFlow version:\", tf.__version__)\n",
        "print(\"Scikit-learn version:\", sklearn.__version__)\n"
      ],
      "metadata": {
        "colab": {
          "base_uri": "https://localhost:8080/"
        },
        "id": "ZzAQLOgmlLeC",
        "outputId": "81f22d36-b4ed-4a2b-c18b-051cc3ed51ab"
      },
      "execution_count": 2,
      "outputs": [
        {
          "output_type": "stream",
          "name": "stdout",
          "text": [
            "TensorFlow version: 2.18.0\n",
            "Scikit-learn version: 1.6.1\n"
          ]
        }
      ]
    },
    {
      "cell_type": "code",
      "source": [
        "# Step 1: Import dan baca data\n",
        "import pandas as pd\n",
        "import numpy as np\n",
        "import tensorflow as tf\n",
        "# 2. Encoding user & place\n",
        "from sklearn.preprocessing import LabelEncoder\n",
        "from tensorflow.keras import Model\n",
        "from tensorflow.keras.layers import Embedding, Input\n",
        "from sklearn.model_selection import train_test_split"
      ],
      "metadata": {
        "id": "rQCSYyVNcj_Y"
      },
      "execution_count": 3,
      "outputs": []
    },
    {
      "cell_type": "markdown",
      "source": [
        "## load dataset"
      ],
      "metadata": {
        "id": "B04DpAPvyycX"
      }
    },
    {
      "cell_type": "code",
      "source": [
        "import pandas as pd\n",
        "\n",
        "# Ganti dengan Sheet ID dan Sheet Name jika perlu\n",
        "sheet_id = \"1GM9mlRGoUTNu0APh_J7v-tXZgUozNpInFOKiijA8B98\"\n",
        "sheet_name = \"Sheet1\"  # Ganti jika nama sheet kamu berbeda\n",
        "\n",
        "# Buat URL dalam format export CSV\n",
        "url = f\"https://docs.google.com/spreadsheets/d/{sheet_id}/gviz/tq?tqx=out:csv&sheet={sheet_name}\"\n",
        "\n",
        "# Baca spreadsheet\n",
        "df = pd.read_csv(url)\n",
        "\n",
        "# Tambahkan kolom rating = 1 untuk semua reservasi\n",
        "df[\"rating\"] = 1"
      ],
      "metadata": {
        "id": "jXMrwzc0bJYk"
      },
      "execution_count": 4,
      "outputs": []
    },
    {
      "cell_type": "code",
      "source": [
        "# 2. Encoding user & place\n",
        "user_encoder = LabelEncoder()\n",
        "place_encoder = LabelEncoder()\n",
        "df['Nama'] = user_encoder.fit_transform(df['Nama'])\n",
        "df['Tempat'] = place_encoder.fit_transform(df['Tempat'])\n",
        "\n",
        "n_users = df['Nama'].nunique()\n",
        "n_places = df['Tempat'].nunique()\n",
        "\n",
        "# 3. Tambahkan rating implicit (1 berarti pernah reservasi)\n",
        "df['rating'] = 1\n"
      ],
      "metadata": {
        "id": "vZE5aFTkiHvO"
      },
      "execution_count": 5,
      "outputs": []
    },
    {
      "cell_type": "code",
      "source": [
        "# 4. Split data\n",
        "X = df[['Nama', 'Tempat']]\n",
        "y = df['rating']\n",
        "X_train, X_test, y_train, y_test = train_test_split(X, y, test_size=0.2, random_state=42)\n"
      ],
      "metadata": {
        "id": "9cKVWz8VsFvQ"
      },
      "execution_count": 6,
      "outputs": []
    },
    {
      "cell_type": "markdown",
      "source": [
        "## Modelling"
      ],
      "metadata": {
        "id": "KWQMWx60zIOj"
      }
    },
    {
      "cell_type": "code",
      "source": [
        "class MatrixFactorization(tf.keras.Model):\n",
        "    def __init__(self, n_users, n_places, embedding_dim=32, **kwargs):\n",
        "        super().__init__(**kwargs)\n",
        "        self.n_users = n_users\n",
        "        self.n_places = n_places\n",
        "        self.embedding_dim = embedding_dim\n",
        "\n",
        "        self.user_embedding = tf.keras.layers.Embedding(input_dim=n_users, output_dim=embedding_dim, name=\"user_embedding\")\n",
        "        self.place_embedding = tf.keras.layers.Embedding(input_dim=n_places, output_dim=embedding_dim, name=\"place_embedding\")\n",
        "\n",
        "    def call(self, inputs):\n",
        "        user_vec = self.user_embedding(inputs[:, 0])\n",
        "        place_vec = self.place_embedding(inputs[:, 1])\n",
        "        dot_product = tf.reduce_sum(user_vec * place_vec, axis=1)\n",
        "        return dot_product\n",
        "\n",
        "    def get_config(self):\n",
        "        return {\n",
        "            \"n_users\": self.n_users,\n",
        "            \"n_places\": self.n_places,\n",
        "            \"embedding_dim\": self.embedding_dim\n",
        "        }\n",
        "\n",
        "    @classmethod\n",
        "    def from_config(cls, config):\n",
        "        return cls(**config)\n"
      ],
      "metadata": {
        "id": "YlzwOwYA74lf"
      },
      "execution_count": 7,
      "outputs": []
    },
    {
      "cell_type": "code",
      "source": [
        "# Buat model\n",
        "# Ganti 'num_users' dan 'num_places' dengan 'n_users' dan 'n_places'\n",
        "model = MatrixFactorization(n_users=df['Nama'].nunique(), n_places=df['Tempat'].nunique(), embedding_dim=32)\n",
        "model.compile(optimizer='adam', loss='mse', metrics=['mae'])\n",
        "\n",
        "# Training\n",
        "# Ganti 'train_data' dan 'train_labels' dengan 'X_train' dan 'y_train'\n",
        "model.fit(X_train, y_train, epochs=10, batch_size=16, validation_split=0.2)"
      ],
      "metadata": {
        "id": "0td15CI-frgq",
        "colab": {
          "base_uri": "https://localhost:8080/"
        },
        "outputId": "81744daf-926e-4cd9-bd8d-693c84107905"
      },
      "execution_count": 12,
      "outputs": [
        {
          "output_type": "stream",
          "name": "stdout",
          "text": [
            "Epoch 1/10\n",
            "\u001b[1m20/20\u001b[0m \u001b[32m━━━━━━━━━━━━━━━━━━━━\u001b[0m\u001b[37m\u001b[0m \u001b[1m2s\u001b[0m 14ms/step - loss: 1.0004 - mae: 1.0002 - val_loss: 0.9971 - val_mae: 0.9985\n",
            "Epoch 2/10\n",
            "\u001b[1m20/20\u001b[0m \u001b[32m━━━━━━━━━━━━━━━━━━━━\u001b[0m\u001b[37m\u001b[0m \u001b[1m0s\u001b[0m 8ms/step - loss: 0.9909 - mae: 0.9954 - val_loss: 0.9927 - val_mae: 0.9963\n",
            "Epoch 3/10\n",
            "\u001b[1m20/20\u001b[0m \u001b[32m━━━━━━━━━━━━━━━━━━━━\u001b[0m\u001b[37m\u001b[0m \u001b[1m0s\u001b[0m 5ms/step - loss: 0.9779 - mae: 0.9889 - val_loss: 0.9855 - val_mae: 0.9927\n",
            "Epoch 4/10\n",
            "\u001b[1m20/20\u001b[0m \u001b[32m━━━━━━━━━━━━━━━━━━━━\u001b[0m\u001b[37m\u001b[0m \u001b[1m0s\u001b[0m 5ms/step - loss: 0.9561 - mae: 0.9778 - val_loss: 0.9718 - val_mae: 0.9856\n",
            "Epoch 5/10\n",
            "\u001b[1m20/20\u001b[0m \u001b[32m━━━━━━━━━━━━━━━━━━━━\u001b[0m\u001b[37m\u001b[0m \u001b[1m0s\u001b[0m 5ms/step - loss: 0.9185 - mae: 0.9582 - val_loss: 0.9503 - val_mae: 0.9744\n",
            "Epoch 6/10\n",
            "\u001b[1m20/20\u001b[0m \u001b[32m━━━━━━━━━━━━━━━━━━━━\u001b[0m\u001b[37m\u001b[0m \u001b[1m0s\u001b[0m 5ms/step - loss: 0.8494 - mae: 0.9212 - val_loss: 0.9197 - val_mae: 0.9577\n",
            "Epoch 7/10\n",
            "\u001b[1m20/20\u001b[0m \u001b[32m━━━━━━━━━━━━━━━━━━━━\u001b[0m\u001b[37m\u001b[0m \u001b[1m0s\u001b[0m 5ms/step - loss: 0.7616 - mae: 0.8718 - val_loss: 0.8744 - val_mae: 0.9317\n",
            "Epoch 8/10\n",
            "\u001b[1m20/20\u001b[0m \u001b[32m━━━━━━━━━━━━━━━━━━━━\u001b[0m\u001b[37m\u001b[0m \u001b[1m0s\u001b[0m 5ms/step - loss: 0.6469 - mae: 0.8023 - val_loss: 0.8230 - val_mae: 0.8996\n",
            "Epoch 9/10\n",
            "\u001b[1m20/20\u001b[0m \u001b[32m━━━━━━━━━━━━━━━━━━━━\u001b[0m\u001b[37m\u001b[0m \u001b[1m0s\u001b[0m 5ms/step - loss: 0.5231 - mae: 0.7192 - val_loss: 0.7679 - val_mae: 0.8615\n",
            "Epoch 10/10\n",
            "\u001b[1m20/20\u001b[0m \u001b[32m━━━━━━━━━━━━━━━━━━━━\u001b[0m\u001b[37m\u001b[0m \u001b[1m0s\u001b[0m 10ms/step - loss: 0.3786 - mae: 0.6074 - val_loss: 0.7116 - val_mae: 0.8161\n"
          ]
        },
        {
          "output_type": "execute_result",
          "data": {
            "text/plain": [
              "<keras.src.callbacks.history.History at 0x78dd545c8110>"
            ]
          },
          "metadata": {},
          "execution_count": 12
        }
      ]
    },
    {
      "cell_type": "code",
      "source": [
        "# 7. Rekomendasi Top-3 Tempat per User\n",
        "rekomendasi = []\n",
        "\n",
        "for user_id_enc in range(n_users):\n",
        "    # Tempat yang sudah dikunjungi user ini (encoded)\n",
        "    visited = df[df['Nama'] == user_id_enc]['Tempat'].tolist()\n",
        "\n",
        "    # Tempat yang belum dikunjungi\n",
        "    candidates = [i for i in range(n_places) if i not in visited]\n",
        "\n",
        "    # Buat pasangan input (user, place)\n",
        "    input_pairs = np.array([[user_id_enc, pid] for pid in candidates], dtype=np.int32)\n",
        "\n",
        "    # Prediksi skor untuk semua tempat kandidat\n",
        "    scores = model.predict(input_pairs, verbose=0).reshape(-1)\n",
        "\n",
        "    # Ambil 3 tempat teratas\n",
        "    top_indices = scores.argsort()[-3:][::-1]\n",
        "    top_place_encs = [candidates[i] for i in top_indices]\n",
        "    top_places = place_encoder.inverse_transform(top_place_encs)\n",
        "\n",
        "    rekomendasi.append({\n",
        "        \"user_id\": user_encoder.inverse_transform([user_id_enc])[0],\n",
        "        \"rekomendasi\": list(top_places)\n",
        "    })\n",
        "\n",
        "# Tambahan: Output global 3 tempat yang paling sering direkomendasikan\n",
        "from collections import Counter\n",
        "\n",
        "# Gabungkan semua rekomendasi jadi satu list\n",
        "all_rekomendasi = sum([r[\"rekomendasi\"] for r in rekomendasi], [])\n",
        "\n",
        "# Hitung frekuensi dan ambil 3 teratas\n",
        "top_places = Counter(all_rekomendasi).most_common(3)\n",
        "\n",
        "# Tampilkan output akhir\n",
        "print(\"\\n3 Tempat yang Paling Sering Direkomendasikan untuk User:\")\n",
        "for i, (place, count) in enumerate(top_places, 1):\n",
        "    print(f\"{i}. {place} - {count} kali direkomendasikan\")\n"
      ],
      "metadata": {
        "colab": {
          "base_uri": "https://localhost:8080/"
        },
        "id": "EA5I6GU5mN4M",
        "outputId": "fd4517a0-0f23-4edd-e0f2-79dbc064f0c4"
      },
      "execution_count": 13,
      "outputs": [
        {
          "output_type": "stream",
          "name": "stdout",
          "text": [
            "\n",
            "3 Tempat yang Paling Sering Direkomendasikan untuk User:\n",
            "1. Karaoke - 260 kali direkomendasikan\n",
            "2. Aula - 257 kali direkomendasikan\n",
            "3. Lahan Barat - 205 kali direkomendasikan\n"
          ]
        }
      ]
    },
    {
      "cell_type": "code",
      "source": [
        "# Simpan model (.keras wajib agar load_model lancar)\n",
        "model.save(\"model_rekomendasi.keras\")"
      ],
      "metadata": {
        "id": "ACtBq_AB05kO"
      },
      "execution_count": 14,
      "outputs": []
    }
  ]
}